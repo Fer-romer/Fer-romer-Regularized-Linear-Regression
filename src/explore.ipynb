{
 "cells": [
  {
   "cell_type": "markdown",
   "metadata": {},
   "source": [
    "# Demographic health data"
   ]
  },
  {
   "cell_type": "markdown",
   "metadata": {},
   "source": [
    "Imported Libraries"
   ]
  },
  {
   "cell_type": "code",
   "execution_count": null,
   "metadata": {},
   "outputs": [],
   "source": [
    "import pandas as pd # data processing, CSV file I/O (e.g. pd.read_csv)\n",
    "import matplotlib.pyplot as plt\n",
    "import seaborn as sns\n",
    "import json\n",
    "from sklearn.model_selection import train_test_split\n",
    "from sklearn.preprocessing import StandardScaler\n",
    "from sklearn.preprocessing import MinMaxScaler\n",
    "from sklearn.feature_selection import f_classif, SelectKBest\n",
    "from pickle import dump\n",
    "import warnings\n",
    "\n",
    "def ignore_warn(*args, **kwargs):\n",
    "    pass\n",
    "warnings.warn = ignore_warn # ignore annoying warning (from sklearn and seaborn)\n",
    "\n",
    "pd.set_option('display.float_format', lambda x: '{:.3f}'.format(x)) #Limiting floats output to 3 decimal points\n",
    "'''NOTE: This affects only the display and not the underlying data, which remains unchanged.'''"
   ]
  },
  {
   "cell_type": "markdown",
   "metadata": {},
   "source": [
    "## Step 1: Problem statement and data collection"
   ]
  },
  {
   "cell_type": "code",
   "execution_count": 15,
   "metadata": {},
   "outputs": [
    {
     "data": {
      "text/html": [
       "<div>\n",
       "<style scoped>\n",
       "    .dataframe tbody tr th:only-of-type {\n",
       "        vertical-align: middle;\n",
       "    }\n",
       "\n",
       "    .dataframe tbody tr th {\n",
       "        vertical-align: top;\n",
       "    }\n",
       "\n",
       "    .dataframe thead th {\n",
       "        text-align: right;\n",
       "    }\n",
       "</style>\n",
       "<table border=\"1\" class=\"dataframe\">\n",
       "  <thead>\n",
       "    <tr style=\"text-align: right;\">\n",
       "      <th></th>\n",
       "      <th>fips</th>\n",
       "      <th>TOT_POP</th>\n",
       "      <th>0-9</th>\n",
       "      <th>0-9 y/o % of total pop</th>\n",
       "      <th>19-Oct</th>\n",
       "      <th>10-19 y/o % of total pop</th>\n",
       "      <th>20-29</th>\n",
       "      <th>20-29 y/o % of total pop</th>\n",
       "      <th>30-39</th>\n",
       "      <th>30-39 y/o % of total pop</th>\n",
       "      <th>...</th>\n",
       "      <th>COPD_number</th>\n",
       "      <th>diabetes_prevalence</th>\n",
       "      <th>diabetes_Lower 95% CI</th>\n",
       "      <th>diabetes_Upper 95% CI</th>\n",
       "      <th>diabetes_number</th>\n",
       "      <th>CKD_prevalence</th>\n",
       "      <th>CKD_Lower 95% CI</th>\n",
       "      <th>CKD_Upper 95% CI</th>\n",
       "      <th>CKD_number</th>\n",
       "      <th>Urban_rural_code</th>\n",
       "    </tr>\n",
       "  </thead>\n",
       "  <tbody>\n",
       "    <tr>\n",
       "      <th>0</th>\n",
       "      <td>1001</td>\n",
       "      <td>55601</td>\n",
       "      <td>6787</td>\n",
       "      <td>12.207</td>\n",
       "      <td>7637</td>\n",
       "      <td>13.735</td>\n",
       "      <td>6878</td>\n",
       "      <td>12.370</td>\n",
       "      <td>7089</td>\n",
       "      <td>12.750</td>\n",
       "      <td>...</td>\n",
       "      <td>3644</td>\n",
       "      <td>12.900</td>\n",
       "      <td>11.900</td>\n",
       "      <td>13.800</td>\n",
       "      <td>5462</td>\n",
       "      <td>3.100</td>\n",
       "      <td>2.900</td>\n",
       "      <td>3.300</td>\n",
       "      <td>1326</td>\n",
       "      <td>3</td>\n",
       "    </tr>\n",
       "    <tr>\n",
       "      <th>1</th>\n",
       "      <td>1003</td>\n",
       "      <td>218022</td>\n",
       "      <td>24757</td>\n",
       "      <td>11.355</td>\n",
       "      <td>26913</td>\n",
       "      <td>12.344</td>\n",
       "      <td>23579</td>\n",
       "      <td>10.815</td>\n",
       "      <td>25213</td>\n",
       "      <td>11.564</td>\n",
       "      <td>...</td>\n",
       "      <td>14692</td>\n",
       "      <td>12.000</td>\n",
       "      <td>11.000</td>\n",
       "      <td>13.100</td>\n",
       "      <td>20520</td>\n",
       "      <td>3.200</td>\n",
       "      <td>3.000</td>\n",
       "      <td>3.500</td>\n",
       "      <td>5479</td>\n",
       "      <td>4</td>\n",
       "    </tr>\n",
       "    <tr>\n",
       "      <th>2</th>\n",
       "      <td>1005</td>\n",
       "      <td>24881</td>\n",
       "      <td>2732</td>\n",
       "      <td>10.980</td>\n",
       "      <td>2960</td>\n",
       "      <td>11.897</td>\n",
       "      <td>3268</td>\n",
       "      <td>13.135</td>\n",
       "      <td>3201</td>\n",
       "      <td>12.865</td>\n",
       "      <td>...</td>\n",
       "      <td>2373</td>\n",
       "      <td>19.700</td>\n",
       "      <td>18.600</td>\n",
       "      <td>20.600</td>\n",
       "      <td>3870</td>\n",
       "      <td>4.500</td>\n",
       "      <td>4.200</td>\n",
       "      <td>4.800</td>\n",
       "      <td>887</td>\n",
       "      <td>6</td>\n",
       "    </tr>\n",
       "  </tbody>\n",
       "</table>\n",
       "<p>3 rows × 108 columns</p>\n",
       "</div>"
      ],
      "text/plain": [
       "   fips  TOT_POP    0-9  0-9 y/o % of total pop  19-Oct  \\\n",
       "0  1001    55601   6787                  12.207    7637   \n",
       "1  1003   218022  24757                  11.355   26913   \n",
       "2  1005    24881   2732                  10.980    2960   \n",
       "\n",
       "   10-19 y/o % of total pop  20-29  20-29 y/o % of total pop  30-39  \\\n",
       "0                    13.735   6878                    12.370   7089   \n",
       "1                    12.344  23579                    10.815  25213   \n",
       "2                    11.897   3268                    13.135   3201   \n",
       "\n",
       "   30-39 y/o % of total pop  ...  COPD_number  diabetes_prevalence  \\\n",
       "0                    12.750  ...         3644               12.900   \n",
       "1                    11.564  ...        14692               12.000   \n",
       "2                    12.865  ...         2373               19.700   \n",
       "\n",
       "   diabetes_Lower 95% CI  diabetes_Upper 95% CI  diabetes_number  \\\n",
       "0                 11.900                 13.800             5462   \n",
       "1                 11.000                 13.100            20520   \n",
       "2                 18.600                 20.600             3870   \n",
       "\n",
       "   CKD_prevalence  CKD_Lower 95% CI  CKD_Upper 95% CI  CKD_number  \\\n",
       "0           3.100             2.900             3.300        1326   \n",
       "1           3.200             3.000             3.500        5479   \n",
       "2           4.500             4.200             4.800         887   \n",
       "\n",
       "   Urban_rural_code  \n",
       "0                 3  \n",
       "1                 4  \n",
       "2                 6  \n",
       "\n",
       "[3 rows x 108 columns]"
      ]
     },
     "execution_count": 15,
     "metadata": {},
     "output_type": "execute_result"
    }
   ],
   "source": [
    "df = pd.read_csv(\"https://raw.githubusercontent.com/4GeeksAcademy/regularized-linear-regression-project-tutorial/main/demographic_health_data.csv\")\n",
    "\n",
    "df.head(3)"
   ]
  },
  {
   "cell_type": "markdown",
   "metadata": {},
   "source": [
    "**Description and types of Data**"
   ]
  },
  {
   "cell_type": "markdown",
   "metadata": {},
   "source": [
    "## Step 2: Exploration and data cleaning\n",
    "- ### 2.1 Summarize DF"
   ]
  },
  {
   "cell_type": "code",
   "execution_count": 16,
   "metadata": {},
   "outputs": [
    {
     "name": "stdout",
     "output_type": "stream",
     "text": [
      "The dimensions of this dataset are: 3140 Rows and 108 Columns\n"
     ]
    }
   ],
   "source": [
    "# Obtain dimensions\n",
    "\n",
    "rows, columns = df.shape\n",
    "\n",
    "print(f\"The dimensions of this dataset are: {rows} Rows and {columns} Columns\")"
   ]
  },
  {
   "cell_type": "code",
   "execution_count": 13,
   "metadata": {},
   "outputs": [
    {
     "name": "stdout",
     "output_type": "stream",
     "text": [
      "<class 'pandas.core.frame.DataFrame'>\n",
      "RangeIndex: 3140 entries, 0 to 3139\n",
      "Data columns (total 108 columns):\n",
      " #    Column                                                                         Dtype  \n",
      "---   ------                                                                         -----  \n",
      " 0    fips                                                                           int64  \n",
      " 1    TOT_POP                                                                        int64  \n",
      " 2    0-9                                                                            int64  \n",
      " 3    0-9 y/o % of total pop                                                         float64\n",
      " 4    19-Oct                                                                         int64  \n",
      " 5    10-19 y/o % of total pop                                                       float64\n",
      " 6    20-29                                                                          int64  \n",
      " 7    20-29 y/o % of total pop                                                       float64\n",
      " 8    30-39                                                                          int64  \n",
      " 9    30-39 y/o % of total pop                                                       float64\n",
      " 10   40-49                                                                          int64  \n",
      " 11   40-49 y/o % of total pop                                                       float64\n",
      " 12   50-59                                                                          int64  \n",
      " 13   50-59 y/o % of total pop                                                       float64\n",
      " 14   60-69                                                                          int64  \n",
      " 15   60-69 y/o % of total pop                                                       float64\n",
      " 16   70-79                                                                          int64  \n",
      " 17   70-79 y/o % of total pop                                                       float64\n",
      " 18   80+                                                                            int64  \n",
      " 19   80+ y/o % of total pop                                                         float64\n",
      " 20   White-alone pop                                                                int64  \n",
      " 21   % White-alone                                                                  float64\n",
      " 22   Black-alone pop                                                                int64  \n",
      " 23   % Black-alone                                                                  float64\n",
      " 24   Native American/American Indian-alone pop                                      int64  \n",
      " 25   % NA/AI-alone                                                                  float64\n",
      " 26   Asian-alone pop                                                                int64  \n",
      " 27   % Asian-alone                                                                  float64\n",
      " 28   Hawaiian/Pacific Islander-alone pop                                            int64  \n",
      " 29   % Hawaiian/PI-alone                                                            float64\n",
      " 30   Two or more races pop                                                          int64  \n",
      " 31   % Two or more races                                                            float64\n",
      " 32   POP_ESTIMATE_2018                                                              int64  \n",
      " 33   N_POP_CHG_2018                                                                 int64  \n",
      " 34   GQ_ESTIMATES_2018                                                              int64  \n",
      " 35   R_birth_2018                                                                   float64\n",
      " 36   R_death_2018                                                                   float64\n",
      " 37   R_NATURAL_INC_2018                                                             float64\n",
      " 38   R_INTERNATIONAL_MIG_2018                                                       float64\n",
      " 39   R_DOMESTIC_MIG_2018                                                            float64\n",
      " 40   R_NET_MIG_2018                                                                 float64\n",
      " 41   Less than a high school diploma 2014-18                                        int64  \n",
      " 42   High school diploma only 2014-18                                               int64  \n",
      " 43   Some college or associate's degree 2014-18                                     int64  \n",
      " 44   Bachelor's degree or higher 2014-18                                            int64  \n",
      " 45   Percent of adults with less than a high school diploma 2014-18                 float64\n",
      " 46   Percent of adults with a high school diploma only 2014-18                      float64\n",
      " 47   Percent of adults completing some college or associate's degree 2014-18        float64\n",
      " 48   Percent of adults with a bachelor's degree or higher 2014-18                   float64\n",
      " 49   POVALL_2018                                                                    int64  \n",
      " 50   PCTPOVALL_2018                                                                 float64\n",
      " 51   PCTPOV017_2018                                                                 float64\n",
      " 52   PCTPOV517_2018                                                                 float64\n",
      " 53   MEDHHINC_2018                                                                  int64  \n",
      " 54   CI90LBINC_2018                                                                 int64  \n",
      " 55   CI90UBINC_2018                                                                 int64  \n",
      " 56   Civilian_labor_force_2018                                                      int64  \n",
      " 57   Employed_2018                                                                  int64  \n",
      " 58   Unemployed_2018                                                                int64  \n",
      " 59   Unemployment_rate_2018                                                         float64\n",
      " 60   Median_Household_Income_2018                                                   int64  \n",
      " 61   Med_HH_Income_Percent_of_State_Total_2018                                      float64\n",
      " 62   Active Physicians per 100000 Population 2018 (AAMC)                            float64\n",
      " 63   Total Active Patient Care Physicians per 100000 Population 2018 (AAMC)         float64\n",
      " 64   Active Primary Care Physicians per 100000 Population 2018 (AAMC)               float64\n",
      " 65   Active Patient Care Primary Care Physicians per 100000 Population 2018 (AAMC)  float64\n",
      " 66   Active General Surgeons per 100000 Population 2018 (AAMC)                      float64\n",
      " 67   Active Patient Care General Surgeons per 100000 Population 2018 (AAMC)         float64\n",
      " 68   Total nurse practitioners (2019)                                               float64\n",
      " 69   Total physician assistants (2019)                                              float64\n",
      " 70   Total Hospitals (2019)                                                         float64\n",
      " 71   Internal Medicine Primary Care (2019)                                          float64\n",
      " 72   Family Medicine/General Practice Primary Care (2019)                           float64\n",
      " 73   Total Specialist Physicians (2019)                                             float64\n",
      " 74   ICU Beds_x                                                                     int64  \n",
      " 75   Total Population                                                               int64  \n",
      " 76   Population Aged 60+                                                            int64  \n",
      " 77   Percent of Population Aged 60+                                                 float64\n",
      " 78   COUNTY_NAME                                                                    object \n",
      " 79   STATE_NAME                                                                     object \n",
      " 80   STATE_FIPS                                                                     int64  \n",
      " 81   CNTY_FIPS                                                                      int64  \n",
      " 82   county_pop2018_18 and older                                                    int64  \n",
      " 83   anycondition_prevalence                                                        float64\n",
      " 84   anycondition_Lower 95% CI                                                      float64\n",
      " 85   anycondition_Upper 95% CI                                                      float64\n",
      " 86   anycondition_number                                                            int64  \n",
      " 87   Obesity_prevalence                                                             float64\n",
      " 88   Obesity_Lower 95% CI                                                           float64\n",
      " 89   Obesity_Upper 95% CI                                                           float64\n",
      " 90   Obesity_number                                                                 int64  \n",
      " 91   Heart disease_prevalence                                                       float64\n",
      " 92   Heart disease_Lower 95% CI                                                     float64\n",
      " 93   Heart disease_Upper 95% CI                                                     float64\n",
      " 94   Heart disease_number                                                           int64  \n",
      " 95   COPD_prevalence                                                                float64\n",
      " 96   COPD_Lower 95% CI                                                              float64\n",
      " 97   COPD_Upper 95% CI                                                              float64\n",
      " 98   COPD_number                                                                    int64  \n",
      " 99   diabetes_prevalence                                                            float64\n",
      " 100  diabetes_Lower 95% CI                                                          float64\n",
      " 101  diabetes_Upper 95% CI                                                          float64\n",
      " 102  diabetes_number                                                                int64  \n",
      " 103  CKD_prevalence                                                                 float64\n",
      " 104  CKD_Lower 95% CI                                                               float64\n",
      " 105  CKD_Upper 95% CI                                                               float64\n",
      " 106  CKD_number                                                                     int64  \n",
      " 107  Urban_rural_code                                                               int64  \n",
      "dtypes: float64(61), int64(45), object(2)\n",
      "memory usage: 2.6+ MB\n"
     ]
    }
   ],
   "source": [
    "# Obtain information about data types and non-null values\n",
    "\n",
    "df.info(verbose=True)"
   ]
  },
  {
   "cell_type": "code",
   "execution_count": 18,
   "metadata": {},
   "outputs": [
    {
     "name": "stdout",
     "output_type": "stream",
     "text": [
      "Series([], dtype: int64)\n",
      "\n",
      "The number of null variables are 0\n"
     ]
    }
   ],
   "source": [
    "# Check null values\n",
    "\n",
    "null_var = df.isnull().sum().loc[lambda x: x > 0]\n",
    "\n",
    "num_of_null_var = len(null_var)\n",
    "\n",
    "print(f\"{null_var}\\n\\nThe number of null variables are {num_of_null_var}\")"
   ]
  },
  {
   "cell_type": "markdown",
   "metadata": {},
   "source": [
    "- ### 2.2 Eliminate duplicates"
   ]
  },
  {
   "cell_type": "code",
   "execution_count": 19,
   "metadata": {},
   "outputs": [
    {
     "name": "stdout",
     "output_type": "stream",
     "text": [
      "The number of duplicate values in the dataset is 0\n"
     ]
    }
   ],
   "source": [
    "# Obtain the number of duplicate values in our dataset\n",
    "\n",
    "print(f\"The number of duplicate values in the dataset is {df.duplicated().sum()}\")"
   ]
  },
  {
   "cell_type": "code",
   "execution_count": 21,
   "metadata": {},
   "outputs": [],
   "source": [
    "filt_df = df.copy()"
   ]
  },
  {
   "cell_type": "markdown",
   "metadata": {},
   "source": [
    "- ### 2.3 Eliminate irrelevant information"
   ]
  }
 ],
 "metadata": {
  "kernelspec": {
   "display_name": "base",
   "language": "python",
   "name": "python3"
  },
  "language_info": {
   "codemirror_mode": {
    "name": "ipython",
    "version": 3
   },
   "file_extension": ".py",
   "mimetype": "text/x-python",
   "name": "python",
   "nbconvert_exporter": "python",
   "pygments_lexer": "ipython3",
   "version": "3.12.4"
  },
  "orig_nbformat": 4
 },
 "nbformat": 4,
 "nbformat_minor": 2
}
